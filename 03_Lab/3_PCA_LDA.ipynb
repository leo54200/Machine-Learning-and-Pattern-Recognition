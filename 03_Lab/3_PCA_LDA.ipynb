{
 "cells": [
  {
   "cell_type": "markdown",
   "metadata": {},
   "source": [
    "# Principal Component Analysis"
   ]
  },
  {
   "cell_type": "code",
   "execution_count": 1,
   "metadata": {},
   "outputs": [],
   "source": [
    "import numpy as np\n",
    "import matplotlib.pyplot as plt"
   ]
  },
  {
   "cell_type": "code",
   "execution_count": 2,
   "metadata": {},
   "outputs": [],
   "source": [
    "\n",
    "def mrow (n):\n",
    "    return n.reshape(1, n.size)\n",
    "\n",
    "def mcol (n):\n",
    "    return n.reshape(n.size, 1)\n"
   ]
  },
  {
   "cell_type": "code",
   "execution_count": 3,
   "metadata": {},
   "outputs": [],
   "source": [
    "def load(fname):\n",
    "    DList = []\n",
    "    labelsList = []\n",
    "    hLabels = {\n",
    "        'Iris-setosa': 0,\n",
    "        'Iris-versicolor': 1,\n",
    "        'Iris-virginica': 2\n",
    "        }\n",
    "\n",
    "    with open(fname) as f:\n",
    "        for line in f:\n",
    "            try:\n",
    "                attrs = line.split(',')[0:-1]\n",
    "                attrs = mcol(np.array([float(i) for i in attrs]))\n",
    "                name = line.split(',')[-1].strip()\n",
    "                label = hLabels[name]\n",
    "                DList.append(attrs)\n",
    "                labelsList.append(label)\n",
    "            except:\n",
    "                pass\n",
    "\n",
    "    return np.hstack(DList), np.array(labelsList, dtype=np.int32)\n"
   ]
  },
  {
   "cell_type": "code",
   "execution_count": 4,
   "metadata": {},
   "outputs": [
    {
     "name": "stdout",
     "output_type": "stream",
     "text": [
      "mu :  [5.84333333 3.05733333 3.758      1.19933333]\n",
      "covariance matrix : \n",
      "[[ 0.68112222 -0.04215111  1.26582     0.51282889]\n",
      " [-0.04215111  0.18871289 -0.32745867 -0.12082844]\n",
      " [ 1.26582    -0.32745867  3.09550267  1.286972  ]\n",
      " [ 0.51282889 -0.12082844  1.286972    0.57713289]]\n"
     ]
    }
   ],
   "source": [
    "D, L = load(\"iris.csv\")\n",
    "mu = D.mean(axis=1)\n",
    "#We center the data\n",
    "DC = D - mcol(mu)\n",
    "C = np.dot(DC, DC.T) / D.shape[1]\n",
    "print(\"mu : \", mu)\n",
    "print(\"covariance matrix : \")\n",
    "print(C)"
   ]
  },
  {
   "cell_type": "code",
   "execution_count": 5,
   "metadata": {},
   "outputs": [
    {
     "name": "stdout",
     "output_type": "stream",
     "text": [
      "Eigenvalues :  [0.02367619 0.0776881  0.24105294 4.20005343]\n",
      "Eigenvectors : \n",
      "[[ 0.31548719  0.58202985  0.65658877 -0.36138659]\n",
      " [-0.3197231  -0.59791083  0.73016143  0.08452251]\n",
      " [-0.47983899 -0.07623608 -0.17337266 -0.85667061]\n",
      " [ 0.75365743 -0.54583143 -0.07548102 -0.3582892 ]]\n"
     ]
    }
   ],
   "source": [
    "#if it was not squared we should have used --> numpy.linalg.eig\n",
    "#eig does not sort the eigenvalues and eigenvectors, while eigh returns the eigenvalues, sorted from smallest to largest, and the corresponding eigenvector\n",
    "#eigh is for symmetric matrices\n",
    "s, U = np.linalg.eigh(C)\n",
    "print(\"Eigenvalues : \", s)\n",
    "print(\"Eigenvectors : \")\n",
    "print(U)"
   ]
  },
  {
   "cell_type": "code",
   "execution_count": 6,
   "metadata": {},
   "outputs": [
    {
     "name": "stdout",
     "output_type": "stream",
     "text": [
      "[[-0.36138659  0.65658877]\n",
      " [ 0.08452251  0.73016143]\n",
      " [-0.85667061 -0.17337266]\n",
      " [-0.3582892  -0.07548102]]\n"
     ]
    },
    {
     "data": {
      "image/png": "[encoded data removed]",
      "text/plain": [
       "<Figure size 640x480 with 1 Axes>"
      ]
     },
     "metadata": {},
     "output_type": "display_data"
    }
   ],
   "source": [
    "\n",
    "# m is equal 2 because we want to reduce the dimensionality of the data to a 2D space\n",
    "m = 2\n",
    "#we also reverse the order of the columns of U so that the leading eigenvectors are in the first m columns\n",
    "P = U[:, ::-1][:, 0:m]\n",
    "print(P)\n",
    "#Since the covariance matrix is semi-definite positive, we can also get the sorted eigenvectors from the Singular Value Decomposition (SVD)\n",
    "#U, s, Vh = np.linalg.svd(C)\n",
    "#P = U[:, 0:m]\n",
    "#print(P)\n",
    "\n",
    "#Finally, we can apply the projection to a single point x or to a matrix of samples D as --> y = numpy.dot(P.T, x) or Y = numpy.dot(P.T, D)\n",
    "DP = np.dot(P.T, D)\n",
    "\n",
    "plt.scatter(DP[0, L == 0], DP[1, L == 0], c='r', label='Iris-setosa')\n",
    "plt.scatter(DP[0, L == 1], DP[1, L == 1], c='g', label='Iris-versicolor')\n",
    "plt.scatter(DP[0, L == 2], DP[1, L == 2], c='b', label='Iris-virginica')\n",
    "plt.legend()\n",
    "plt.show()"
   ]
  },
  {
   "cell_type": "markdown",
   "metadata": {},
   "source": [
    "# Linear Discriminant Analysis"
   ]
  },
  {
   "cell_type": "markdown",
   "metadata": {},
   "source": [
    "#### To compute the LDA transformation matrix W we need to compute the between and within class covariance matrices\n"
   ]
  },
  {
   "cell_type": "markdown",
   "metadata": {},
   "source": [
    "### The covariance of each class SW,c can be computed as we did for PCA:\n",
    "##### • Compute the mean for the class samples\n",
    "##### • Remove the mean from the class data\n",
    "##### • Compute SW,c as in (1) using the centered data matrix of the class samples, and nc as the number of samples"
   ]
  },
  {
   "cell_type": "code",
   "execution_count": null,
   "metadata": {},
   "outputs": [],
   "source": [
    "#centered data matrix\n",
    "DC\n"
   ]
  },
  {
   "cell_type": "markdown",
   "metadata": {},
   "source": [
    "# PCA and LDA for classification"
   ]
  },
  {
   "cell_type": "markdown",
   "metadata": {},
   "source": []
  }
 ],
 "metadata": {
  "kernelspec": {
   "display_name": ".venv",
   "language": "python",
   "name": "python3"
  },
  "language_info": {
   "codemirror_mode": {
    "name": "ipython",
    "version": 3
   },
   "file_extension": ".py",
   "mimetype": "text/x-python",
   "name": "python",
   "nbconvert_exporter": "python",
   "pygments_lexer": "ipython3",
   "version": "3.10.11"
  }
 },
 "nbformat": 4,
 "nbformat_minor": 2
}
